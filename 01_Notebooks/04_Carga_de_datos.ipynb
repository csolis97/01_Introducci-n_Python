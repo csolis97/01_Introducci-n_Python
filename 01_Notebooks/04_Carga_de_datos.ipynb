{
 "cells": [
  {
   "cell_type": "markdown",
   "metadata": {},
   "source": [
    "# Carga de datos\n",
    "En python hay varias maneras de leer o generar un dataframe, la más utilizada es mendiante la libreria `pandas` "
   ]
  },
  {
   "cell_type": "code",
   "execution_count": 1,
   "metadata": {},
   "outputs": [],
   "source": [
    "# Importo libreria\n",
    "import pandas as pd"
   ]
  },
  {
   "cell_type": "markdown",
   "metadata": {},
   "source": [
    "Lo más tipico es leer directamente mediante el archivo local, pero existen muchas otras maneras, en los siguientes bloques de codigo se mostrarán algunos de estos:"
   ]
  },
  {
   "cell_type": "code",
   "execution_count": 7,
   "metadata": {},
   "outputs": [
    {
     "name": "stdout",
     "output_type": "stream",
     "text": [
      "El archivo no se encontró.\n"
     ]
    }
   ],
   "source": [
    "# Manejo de errores\n",
    "try:\n",
    "# Carga DF\n",
    "    df = pd.read_csv('archivo.csv') # Donde, se remplaza csv y .csv por tipo de archivo\n",
    "except FileNotFoundError:\n",
    "    print(\"El archivo no se encontró.\")\n",
    "except pd.errors.EmptyDataError:\n",
    "    print(\"El archivo está vacío.\")\n",
    "except Exception as e:\n",
    "    print(f\"Ocurrió un error: {e}\")"
   ]
  },
  {
   "cell_type": "code",
   "execution_count": 10,
   "metadata": {},
   "outputs": [
    {
     "name": "stdout",
     "output_type": "stream",
     "text": [
      "Ocurrió un error: Execution failed on sql 'SELECT * FROM tabla': no such table: tabla\n"
     ]
    }
   ],
   "source": [
    "# Desde una base de datos SQL\n",
    "import sqlite3\n",
    "try:\n",
    "    conn = sqlite3.connect('base_de_datos.db')\n",
    "    df = pd.read_sql_query('SELECT * FROM tabla', conn)\n",
    "except FileNotFoundError:\n",
    "    print(\"El archivo no se encontró.\")\n",
    "except pd.errors.EmptyDataError:\n",
    "    print(\"El archivo está vacío.\")\n",
    "except Exception as e:\n",
    "    print(f\"Ocurrió un error: {e}\")"
   ]
  },
  {
   "cell_type": "code",
   "execution_count": 11,
   "metadata": {},
   "outputs": [
    {
     "name": "stdout",
     "output_type": "stream",
     "text": [
      "Ocurrió un error: HTTP Error 500: Internal Server Error\n"
     ]
    }
   ],
   "source": [
    "# Desde una URL\n",
    "try:\n",
    "    url = 'https://example.com/archivo.csv'\n",
    "    df = pd.read_csv(url)\n",
    "except FileNotFoundError:\n",
    "    print(\"El archivo no se encontró.\")\n",
    "except pd.errors.EmptyDataError:\n",
    "    print(\"El archivo está vacío.\")\n",
    "except Exception as e:\n",
    "    print(f\"Ocurrió un error: {e}\")"
   ]
  },
  {
   "cell_type": "markdown",
   "metadata": {},
   "source": [
    "Para leer un archivo CSV en Python utilizando pandas, es importante especificar correctamente la ruta del archivo. \n",
    "\n",
    "Existe:\n",
    "\n",
    "-Ruta Absoluta: especifica la ubicación completa del archivo desde la raíz del sistema de archivos. Por ejemplo:\n",
    "df = pd.read_csv('/home/usuario/documentos/archivo.csv')\n",
    "\n",
    "-Ruta Relativa:especifica la ubicación del archivo en relación con el directorio actual desde el cual se está ejecutando el script. Por ejemplo, si tu script está en el mismo directorio que el archivo CSV\n",
    "df = pd.read_csv('archivo.csv')\n",
    "O si el archivo está en un subdirectorio:\n",
    "df = pd.read_csv('datos/archivo.csv')"
   ]
  },
  {
   "cell_type": "markdown",
   "metadata": {},
   "source": [
    "La biblioteca os de Python puede ayudarte a construir rutas de manera más flexible y evitar problemas de compatibilidad entre diferentes sistemas operativos:"
   ]
  },
  {
   "cell_type": "code",
   "execution_count": 12,
   "metadata": {},
   "outputs": [
    {
     "name": "stdout",
     "output_type": "stream",
     "text": [
      "El archivo no se encontró.\n"
     ]
    }
   ],
   "source": [
    "import pandas as pd\n",
    "import os\n",
    "\n",
    "try:\n",
    "    ruta = os.path.join('datos', 'archivo.csv')\n",
    "    df = pd.read_csv(ruta)\n",
    "except FileNotFoundError:\n",
    "    print(\"El archivo no se encontró.\")\n",
    "except pd.errors.EmptyDataError:\n",
    "    print(\"El archivo está vacío.\")\n",
    "except Exception as e:\n",
    "    print(f\"Ocurrió un error: {e}\")"
   ]
  }
 ],
 "metadata": {
  "kernelspec": {
   "display_name": "myenv",
   "language": "python",
   "name": "python3"
  },
  "language_info": {
   "codemirror_mode": {
    "name": "ipython",
    "version": 3
   },
   "file_extension": ".py",
   "mimetype": "text/x-python",
   "name": "python",
   "nbconvert_exporter": "python",
   "pygments_lexer": "ipython3",
   "version": "3.12.4"
  }
 },
 "nbformat": 4,
 "nbformat_minor": 2
}
