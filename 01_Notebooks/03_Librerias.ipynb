{
 "cells": [
  {
   "cell_type": "markdown",
   "metadata": {},
   "source": [
    "# Librerias de Python\n",
    "\n",
    "Com se explico en notebook anterior \"01_Configuración Incial\"  son colección de recursos predefinidos que los desarrolladores pueden utilizar para facilitar y acelerar el desarrollo de software"
   ]
  },
  {
   "cell_type": "code",
   "execution_count": null,
   "metadata": {},
   "outputs": [],
   "source": [
    "import pandas as pd       # Para manipulación y análisis de datos\n",
    "import numpy as np        # Para operaciones numéricas y matrices\n",
    "import matplotlib.pyplot as plt  # Para visualización de datos\n",
    "import seaborn as sns     # Para visualización de datos estadísticos\n",
    "import scipy              # Para cálculos científicos y técnicos\n",
    "import sklearn            # Para aprendizaje automático y minería de datos\n"
   ]
  },
  {
   "cell_type": "markdown",
   "metadata": {},
   "source": [
    "## **Las Principales Librerías de Python para Análisis de Datos**\n",
    "\n",
    "**pandas** es una librería esencial para la manipulación y análisis de datos. Proporciona estructuras de datos flexibles y expresivas, como DataFrames, que facilitan el manejo de datos tabulares.\n",
    "\n",
    "\n",
    "**numpy** es fundamental para operaciones numéricas y manejo de matrices. Ofrece soporte para grandes arreglos multidimensionales y matrices, junto con una colección de funciones matemáticas de alto nivel.\n",
    "\n",
    "**matplotlib** es una librería de visualización de datos que permite crear gráficos estáticos, animados e interactivos en Python. Es especialmente útil para generar gráficos de líneas, barras, dispersión, histogramas, entre otros.\n",
    "\n",
    "**seaborn** es una librería basada en matplotlib que facilita la creación de gráficos estadísticos atractivos y con estilo. Proporciona una interfaz de alto nivel para dibujar gráficos informativos y atractivos.\n",
    "\n",
    "**scipy** es una librería que se utiliza para cálculos científicos y técnicos. Incluye módulos para optimización, álgebra lineal, integración, interpolación, procesamiento de señales, y más.\n",
    "\n",
    "**sklearn** (scikit-learn) es una librería para aprendizaje automático y minería de datos. Ofrece herramientas simples y eficientes para análisis de datos y modelado predictivo, incluyendo clasificación, regresión, clustering y reducción de dimensionalidad.\n",
    "\n"
   ]
  }
 ],
 "metadata": {
  "kernelspec": {
   "display_name": "myenv",
   "language": "python",
   "name": "python3"
  },
  "language_info": {
   "name": "python",
   "version": "3.12.4"
  }
 },
 "nbformat": 4,
 "nbformat_minor": 2
}
