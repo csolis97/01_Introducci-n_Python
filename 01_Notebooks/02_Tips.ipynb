{
 "cells": [
  {
   "cell_type": "markdown",
   "metadata": {},
   "source": [
    "# Tips\n",
    "\n",
    "a)**Escritura en .md**  \n",
    "La escritura de texto en un *Jupyter Notebook* se realiza creando una celda de texto, el cual utiliza el formato [*markdown*](https://www.markdownguide.org/getting-started/). Acá dejo algunos ejemplos:\n",
    "\n",
    "- Cursiva: `*este es un texto*  ` → *este es un texto*\n",
    "- Negrita: `**este es un texto**` → **este es un texto**\n",
    "- Tachado: `~este es un texto~  ` → ~este es un texto~\n",
    "- Subrayado: `<u>este es un texto</u>` → <u>este es un texto</u>\n",
    "- Matemática: `$\\int f(x) dx$    ` → $\\int f(x) dx$\n"
   ]
  },
  {
   "cell_type": "markdown",
   "metadata": {},
   "source": [
    "`.md` es muy utilizado para poder guiar a otros lectores de tu código, utilizalo cuando estimes necesario para facilitar la lectura de tu código"
   ]
  },
  {
   "cell_type": "markdown",
   "metadata": {},
   "source": [
    "b) **No olvides comentar tu código**"
   ]
  },
  {
   "cell_type": "code",
   "execution_count": 1,
   "metadata": {},
   "outputs": [
    {
     "name": "stdout",
     "output_type": "stream",
     "text": [
      "3\n"
     ]
    }
   ],
   "source": [
    "# Definir Variables <- \"Esta corresponde a un comentario\n",
    "X = 1\n",
    "Y = 2\n",
    "Z = Y + X\n",
    "\n",
    "print(Z)"
   ]
  },
  {
   "cell_type": "markdown",
   "metadata": {},
   "source": [
    "c) **Operadores Matematicos**  \n",
    "en el bloque anterior aparecio el primer operador (+), para la adición, algunos de los mas básicos \n"
   ]
  },
  {
   "cell_type": "code",
   "execution_count": 2,
   "metadata": {},
   "outputs": [
    {
     "name": "stdout",
     "output_type": "stream",
     "text": [
      "Suma: 8\n",
      "Resta: 6\n",
      "Multiplicación: 14\n",
      "División: 5.0\n",
      "Módulo: 1\n",
      "Exponenciación: 8\n",
      "División Entera: 5\n"
     ]
    }
   ],
   "source": [
    "# Operadores matemáticos en Python\n",
    "# Suma\n",
    "a = 5 + 3  # a será 8\n",
    "\n",
    "# Resta\n",
    "b = 10 - 4  # b será 6\n",
    "\n",
    "# Multiplicación\n",
    "c = 7 * 2  # c será 14\n",
    "\n",
    "# División\n",
    "d = 15 / 3  # d será 5.0\n",
    "\n",
    "# Módulo\n",
    "e = 10 % 3  # e será 1\n",
    "\n",
    "# Exponenciación\n",
    "f = 2 ** 3  # f será 8\n",
    "\n",
    "# División Entera\n",
    "g = 17 // 3  # g será 5\n",
    "\n",
    "# Imprimir resultados\n",
    "print(f\"Suma: {a}\")\n",
    "print(f\"Resta: {b}\")\n",
    "print(f\"Multiplicación: {c}\")\n",
    "print(f\"División: {d}\")\n",
    "print(f\"Módulo: {e}\")\n",
    "print(f\"Exponenciación: {f}\")\n",
    "print(f\"División Entera: {g}\")\n"
   ]
  },
  {
   "cell_type": "markdown",
   "metadata": {},
   "source": [
    "**Las variables aplican para todo tipo de datos, no necesiaremente cuantitativos**"
   ]
  },
  {
   "cell_type": "code",
   "execution_count": 5,
   "metadata": {},
   "outputs": [
    {
     "name": "stdout",
     "output_type": "stream",
     "text": [
      "El nombres es Juan y su edad es 5\n"
     ]
    }
   ],
   "source": [
    "Nombre = \"Juan\"\n",
    "Edad = 5\n",
    "print (f\"El nombres es {Nombre} y su edad es {Edad}\")"
   ]
  },
  {
   "cell_type": "markdown",
   "metadata": {},
   "source": [
    "d) **Operadores logicos**  \n",
    "Existen formas de que tu código tome deciciones basados en una condición mediante `if` - `elif` -`else` en este punto es muy imporante la indetación"
   ]
  },
  {
   "cell_type": "code",
   "execution_count": 15,
   "metadata": {},
   "outputs": [
    {
     "name": "stdout",
     "output_type": "stream",
     "text": [
      "Se considera Masculino\n"
     ]
    }
   ],
   "source": [
    "# Define el genero\n",
    "genero = \"Masculino\"\n",
    "\n",
    "if genero == \"Masculino\":\n",
    "    print(\"Se considera Masculino\")\n",
    "elif genero == \"Femenino\":\n",
    "    print(\"Se considera Femenino\")\n",
    "else:\n",
    "    print(\"Se considera no binario\")"
   ]
  },
  {
   "cell_type": "markdown",
   "metadata": {},
   "source": [
    "e) **Bucles**  \n",
    "Son utilizados para repetir una acción n veces o mientras una condición sea verdadera para esto se utilizan `for` y `while` \n"
   ]
  },
  {
   "cell_type": "code",
   "execution_count": 11,
   "metadata": {},
   "outputs": [
    {
     "name": "stdout",
     "output_type": "stream",
     "text": [
      "0\n",
      "1\n",
      "2\n",
      "3\n",
      "4\n"
     ]
    }
   ],
   "source": [
    "# Uso de bucle for\n",
    "for i in range(5):\n",
    "    print (i)"
   ]
  },
  {
   "cell_type": "markdown",
   "metadata": {},
   "source": [
    "por defecto python parte con i igual 0"
   ]
  },
  {
   "cell_type": "code",
   "execution_count": 14,
   "metadata": {},
   "outputs": [
    {
     "name": "stdout",
     "output_type": "stream",
     "text": [
      "0\n",
      "1\n",
      "2\n",
      "3\n",
      "4\n"
     ]
    }
   ],
   "source": [
    "# Uso de while\n",
    "i=0\n",
    "while i < 5:\n",
    "    print (i)\n",
    "    i += 1"
   ]
  },
  {
   "cell_type": "markdown",
   "metadata": {},
   "source": [
    "f)**Funciones**  \n",
    "Son utiles para evitar para reutilizar código sin tener que volver a escribirlo y ayudan a generar \"modularidad\" en tu .ipynb, facilitando la actualización del mismo"
   ]
  },
  {
   "cell_type": "code",
   "execution_count": 16,
   "metadata": {},
   "outputs": [
    {
     "name": "stdout",
     "output_type": "stream",
     "text": [
      "Hola, Ana\n"
     ]
    }
   ],
   "source": [
    "# Función basica\n",
    "def saludar(nombre):\n",
    "    return f\"Hola, {nombre}\"\n",
    "\n",
    "print(saludar(\"Ana\"))"
   ]
  },
  {
   "cell_type": "markdown",
   "metadata": {},
   "source": [
    "e) **Listas**\n",
    "\n",
    "Son colecciones ordenadas de elementos que pueden ser de cualquier tipo (números, cadenas, objetos, etc.) en donde cada elemento tiene su propio \"indice\""
   ]
  },
  {
   "cell_type": "code",
   "execution_count": 22,
   "metadata": {},
   "outputs": [
    {
     "name": "stdout",
     "output_type": "stream",
     "text": [
      "[1, 2, 3, 4, 5]\n",
      "3\n"
     ]
    }
   ],
   "source": [
    "# Ejemplo de lista\n",
    "lista = [1, 2, 3, 4, 5]\n",
    "\n",
    "print(lista)\n",
    "print (lista[2])"
   ]
  },
  {
   "cell_type": "markdown",
   "metadata": {},
   "source": [
    "f) **Diccionarios**\n",
    "\n",
    "Los diccionarios son colecciones de pares clave-valor. Se utilizan para almacenar datos que están relacionados de alguna manera, donde cada valor está asociado con una clave única."
   ]
  },
  {
   "cell_type": "code",
   "execution_count": 24,
   "metadata": {},
   "outputs": [
    {
     "name": "stdout",
     "output_type": "stream",
     "text": [
      "{'nombre': 'Ana', 'teléfono': '123456789', 'dirección': 'Calle Falsa 123'}\n",
      "Calle Falsa 123\n"
     ]
    }
   ],
   "source": [
    "# Ejemplo de diccionario\n",
    "diccionario = {\"nombre\": \"Ana\", \"teléfono\": \"123456789\", \"dirección\": \"Calle Falsa 123\"}\n",
    "print(diccionario)\n",
    "print(diccionario[\"dirección\"])"
   ]
  }
 ],
 "metadata": {
  "kernelspec": {
   "display_name": "myenv",
   "language": "python",
   "name": "python3"
  },
  "language_info": {
   "codemirror_mode": {
    "name": "ipython",
    "version": 3
   },
   "file_extension": ".py",
   "mimetype": "text/x-python",
   "name": "python",
   "nbconvert_exporter": "python",
   "pygments_lexer": "ipython3",
   "version": "3.12.4"
  }
 },
 "nbformat": 4,
 "nbformat_minor": 2
}
