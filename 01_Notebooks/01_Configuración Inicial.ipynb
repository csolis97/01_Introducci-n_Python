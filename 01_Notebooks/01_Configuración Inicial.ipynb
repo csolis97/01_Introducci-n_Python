{
 "cells": [
  {
   "cell_type": "markdown",
   "metadata": {},
   "source": [
    "## **Configuración Inicial**\n",
    "\n",
    "En este notebook se trabajará en tips para iniciar a programar en Python utilizando *Jupyter Notebook*, los cuales generan archivos `.ipynb` \n",
    "\n",
    "PSI → .ipynb =  **I**nteractive **Py**thon **N**ote**B**ook."
   ]
  },
  {
   "cell_type": "markdown",
   "metadata": {},
   "source": [
    "#### **01: Primer concepto** \n",
    "Un Jupiter Notebook se divie en celdas `(cell)`, los cuales, permiten ejecutar piezas de código, o escribir texto para referencias o conceptos requeridoss de explicar. "
   ]
  },
  {
   "cell_type": "markdown",
   "metadata": {},
   "source": [
    "#### **02: ¿Que requieres para programar con `.ipynb`?** \n",
    "\n",
    "**A) Instalar Anaconda**  \n",
    "Para instalar Anaconda visita: [anaconda.com](https://www.anaconda.com/download) para descargar e instalar Anaconda, incluye Python, Jupyter Notebook, y muchas bibliotecas populares para ciencia de datos\n",
    "\n",
    "Existen muchos tutoriales en internet de como instalar anaconda, te recomiendo ver en youtube https://www.youtube.com/watch?v=AgtESc_KK9w\n",
    "\n"
   ]
  },
  {
   "cell_type": "markdown",
   "metadata": {},
   "source": [
    "**B) Crear un entorno**  \n",
    "Abre anaconda buscando en el navegador de tu barra de inicio `Anaconda Promp`   \n",
    "Ejecuta el siguiente comando para crear un nuevo entorno \n",
    "   ```sh\n",
    "   conda create --name entorno_test python=3.12\n",
    "   ```  \n",
    "(reemplaza `entorno_test` con el nombre que deseas darle al entorno y `python=3.12` con la versión de Python que prefieras)\n"
   ]
  },
  {
   "cell_type": "markdown",
   "metadata": {},
   "source": [
    "Ejecuta el siguiente comando para crear un nuevo entorno \n",
    "   ```sh\n",
    "   conda activate entorno_test\n",
    "   ```  \n",
    "(reemplaza `entorno_test` con el nombre que deseas darle al entorno)"
   ]
  },
  {
   "cell_type": "markdown",
   "metadata": {},
   "source": [
    "Ejecuta el siguiente comando para instalar las librerias necesarias \n",
    "   ```sh\n",
    "   conda intall nombre_libreria\n",
    "   ```  \n",
    "(reemplaza `nombre_libreria` con el nombre de la libreria que deseas instalar)"
   ]
  },
  {
   "cell_type": "markdown",
   "metadata": {},
   "source": [
    "**C) Abre tu editor de código**\n",
    "\n",
    "En mi caso, trabajo con Visual Studio Code, por que trae muchas extenciones amigables para codificar, es desarrollado por Microsoft y es una herramienta `muy popular` debido a sus características avanzadas y su flexibilidad. "
   ]
  },
  {
   "cell_type": "markdown",
   "metadata": {},
   "source": [
    "**D) Crea un nuevo archivo .ipynb**\n",
    "\n",
    "Y ya podras seleccionar el entorno creado, el cual contrendre todos las libreriras que hayas solicitado instalar"
   ]
  },
  {
   "cell_type": "markdown",
   "metadata": {},
   "source": [
    "**`¿Que pasa si necesito una nueva libreria?`**\n",
    " \n",
    "Podras repetir los pasos previos, abriendo `anaconda promp` y activando tu entorno con el comando  \n",
    "   ```sh\n",
    "   conda ctivate entorno_test\n",
    "   ```  "
   ]
  },
  {
   "cell_type": "code",
   "execution_count": 2,
   "metadata": {},
   "outputs": [
    {
     "name": "stdout",
     "output_type": "stream",
     "text": [
      "Requirement already satisfied: numpy in c:\\users\\csolis\\appdata\\local\\anaconda3\\envs\\myenv\\lib\\site-packages (1.26.4)\n"
     ]
    }
   ],
   "source": [
    "# O crea una celda de código llamar directamente a python\n",
    "!pip install numpy"
   ]
  },
  {
   "cell_type": "markdown",
   "metadata": {},
   "source": [
    "**Acerca de las librerias de python**\n",
    "\n",
    "Las librerías de Python son colecciones de módulos y paquetes que proporcionan funcionalidades adicionales para facilitar el desarrollo de aplicaciones. las cuales normalmente se declaran al inicio de un `ipynb`"
   ]
  },
  {
   "cell_type": "code",
   "execution_count": 16,
   "metadata": {},
   "outputs": [
    {
     "name": "stdout",
     "output_type": "stream",
     "text": [
      "[1 2 3]\n"
     ]
    }
   ],
   "source": [
    "#Ejemplo 1: Numpy\n",
    "import numpy as np\n",
    "a = np.array([1, 2, 3])\n",
    "print(a)"
   ]
  },
  {
   "cell_type": "code",
   "execution_count": 21,
   "metadata": {},
   "outputs": [
    {
     "name": "stdout",
     "output_type": "stream",
     "text": [
      "      A  B\n",
      "0     1  3\n",
      "1  hola  2\n"
     ]
    }
   ],
   "source": [
    "#Ejemplo 2: Pandas\n",
    "import pandas as pd\n",
    "df = pd.DataFrame({'A': [1, \"hola\"], 'B': [3, int(2.3)]})\n",
    "print(df)"
   ]
  }
 ],
 "metadata": {
  "kernelspec": {
   "display_name": "myenv",
   "language": "python",
   "name": "python3"
  },
  "language_info": {
   "codemirror_mode": {
    "name": "ipython",
    "version": 3
   },
   "file_extension": ".py",
   "mimetype": "text/x-python",
   "name": "python",
   "nbconvert_exporter": "python",
   "pygments_lexer": "ipython3",
   "version": "3.12.4"
  }
 },
 "nbformat": 4,
 "nbformat_minor": 2
}
